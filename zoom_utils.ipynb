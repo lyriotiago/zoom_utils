{
 "cells": [
  {
   "cell_type": "markdown",
   "id": "a415be33",
   "metadata": {},
   "source": [
    "Drivers do selenium\n",
    "\n",
    "Link para instalação do geckodriver (firefox)  \n",
    "https://github.com/mozilla/geckodriver/releases\n",
    "\n",
    "Link para instalação do chromedriver (Google Chrome)  \n",
    "https://chromedriver.chromium.org/downloads\n",
    "\n",
    "Após o download, devemos colocar o executável na mesma pasta que o python utilizado"
   ]
  },
  {
   "cell_type": "markdown",
   "id": "7c44e9a0",
   "metadata": {},
   "source": [
    "# Constantes e imports"
   ]
  },
  {
   "cell_type": "code",
   "execution_count": null,
   "id": "bcd2708b",
   "metadata": {},
   "outputs": [],
   "source": [
    "#####################\n",
    "#####CONSTANTES######\n",
    "#####################\n",
    "#dados do zoom\n",
    "LINK = 'https://us02web.zoom.us/rec/share/i2ofasdasdUoLa4QT_S7yisumNksaddasumssEY70aJadssadsad00'\n",
    "SENHA = 'ldwq4$e1'\n",
    "#Browser:\n",
    "#0 - Chrome\n",
    "#1 - Firefox\n",
    "BROWSER = 0\n",
    "\n",
    "#A constante abaixo é para facilitar a execução do código\n",
    "#Utilizando Cells - Run ALL\n",
    "#True - Para a lista de participantes da sessão\n",
    "#False - Para fazer o download do vídeo\n",
    "LISTA_OU_DOWNLOAD = False\n",
    "\n",
    "#####################\n",
    "#######IMPORTS#######\n",
    "#####################\n",
    "from selenium import webdriver\n",
    "from selenium.webdriver.common.keys import Keys\n",
    "from selenium.webdriver.common.action_chains import ActionChains\n",
    "from selenium.webdriver.common.by import By\n",
    "from selenium.webdriver.support.ui import WebDriverWait\n",
    "from selenium.webdriver.support import expected_conditions as EC\n",
    "import re\n",
    "from bs4 import BeautifulSoup as bs\n",
    "import requests as r\n",
    "import time"
   ]
  },
  {
   "cell_type": "markdown",
   "id": "c3d82a35",
   "metadata": {},
   "source": [
    "# Declaração de funções"
   ]
  },
  {
   "cell_type": "markdown",
   "id": "1988dd5c",
   "metadata": {},
   "source": [
    "## escolhe_browser"
   ]
  },
  {
   "cell_type": "markdown",
   "id": "97b9cb4d",
   "metadata": {},
   "source": [
    "Escolhe o driver apropriado e maximiza a janela"
   ]
  },
  {
   "cell_type": "code",
   "execution_count": null,
   "id": "e95d9e7a",
   "metadata": {},
   "outputs": [],
   "source": [
    "def escolhe_browser(browser):\n",
    "    if browser:\n",
    "        driver = webdriver.Firefox()\n",
    "    else:\n",
    "        driver = webdriver.Chrome('chromedriver')\n",
    "\n",
    "    #maximiza a janela para garantir a exibição do chat\n",
    "    driver.maximize_window()\n",
    "    return driver"
   ]
  },
  {
   "cell_type": "markdown",
   "id": "e33a38f9",
   "metadata": {},
   "source": [
    "## login"
   ]
  },
  {
   "cell_type": "markdown",
   "id": "e5b8debe",
   "metadata": {},
   "source": [
    "Utiliza o link e a senha para fazer login"
   ]
  },
  {
   "cell_type": "code",
   "execution_count": null,
   "id": "4041406e",
   "metadata": {},
   "outputs": [],
   "source": [
    "def login(link,senha,driver):\n",
    "    \n",
    "    driver.get(link)\n",
    "    \n",
    "    action = ActionChains(driver)\n",
    "\n",
    "    #localiza o campo de senha\n",
    "    campo_de_senha = driver.find_element_by_xpath('/html/body/div[1]/div[3]/div[2]/div[2]/div/form/div/div/input[1]')\n",
    "    \n",
    "    #coloca a senha e aperta enter\n",
    "    campo_de_senha.send_keys(senha)\n",
    "    campo_de_senha.send_keys(Keys.ENTER)"
   ]
  },
  {
   "cell_type": "markdown",
   "id": "b05c2361",
   "metadata": {},
   "source": [
    "## lista_participantes"
   ]
  },
  {
   "cell_type": "markdown",
   "id": "60acaadf",
   "metadata": {},
   "source": [
    "Cria uma lista de participantes do chat"
   ]
  },
  {
   "cell_type": "code",
   "execution_count": null,
   "id": "74026e73",
   "metadata": {},
   "outputs": [],
   "source": [
    "def lista_participantes(driver):\n",
    "    #espera o chat carregar\n",
    "    delay = 20 # seconds\n",
    "    try:\n",
    "        _ = WebDriverWait(driver, delay).until(EC.presence_of_element_located((By.CLASS_NAME, 'user-name')))\n",
    "    except:\n",
    "        print (\"Loading took too much time!\")\n",
    "\n",
    "    #acessa a página\n",
    "    pagina = driver.page_source\n",
    "    parsed = bs(pagina)\n",
    "\n",
    "    #busca todos os usuários que participaram do chat\n",
    "    tags_users = parsed.find_all(\"span\", attrs={\"class\": \"user-name\"})\n",
    "\n",
    "    #salva todos os usuários do chat em um set (sem repetição)\n",
    "    participantes = set()\n",
    "    for tag in tags_users:\n",
    "        participantes.add(tag.text)\n",
    "\n",
    "    #transforma o set em lista e ordena\n",
    "    participantes = sorted(participantes)\n",
    "\n",
    "    return participantes"
   ]
  },
  {
   "cell_type": "markdown",
   "id": "68f2a411",
   "metadata": {},
   "source": [
    "## cria_link"
   ]
  },
  {
   "cell_type": "markdown",
   "id": "854e6505",
   "metadata": {},
   "source": [
    "Cria um link para download do vídeo"
   ]
  },
  {
   "cell_type": "code",
   "execution_count": null,
   "id": "9e800240",
   "metadata": {},
   "outputs": [],
   "source": [
    "def cria_link(driver):\n",
    "    #Verifica se o chat carregou\n",
    "    delay = 20 # seconds\n",
    "    try:\n",
    "        _ = WebDriverWait(driver, delay).until(EC.presence_of_element_located((By.CLASS_NAME, 'user-name')))\n",
    "    except:\n",
    "        print (\"Loading took too much time!\")\n",
    "\n",
    "    #salva o código fonte da pagina\n",
    "    pagina = driver.page_source\n",
    "    parsed = bs(pagina)\n",
    "\n",
    "    #procura pelo link do video, no player\n",
    "    tag_link = parsed.find(\"div\", attrs={\"class\": \"player-view\"})\n",
    "    \n",
    "    #separa o link por regex\n",
    "    link = re.search('src=\\\"(http.+?)\\\" ',str(tag_link)).group(1)\n",
    "\n",
    "    #altera o html fonte da página atraves de JS\n",
    "    #substitui o título do chat por um link de download\n",
    "    driver.execute_script(\"\"\"document.querySelector(\"h2[class='title']\").innerHTML=\"<a href=\"\"\"+link+\"\"\">Pimba!</a>\";\"\"\")\n",
    "    \n",
    "    action = ActionChains(driver)\n",
    "    pimba = driver.find_element_by_xpath('/html/body/div/section/div/div[3]/div[2]/div/div/h2')\n",
    "    \n",
    "    #depois desse comando o usuário precisa clicar em salvar como, selecionar a pasta e escolher o nome do arquivo\n",
    "    action.context_click(pimba).perform()"
   ]
  },
  {
   "cell_type": "markdown",
   "id": "f58ae1ed",
   "metadata": {},
   "source": [
    "# Chamada de funções"
   ]
  },
  {
   "cell_type": "markdown",
   "id": "906f61a3",
   "metadata": {},
   "source": [
    "## Para imprimir a lista de presença"
   ]
  },
  {
   "cell_type": "code",
   "execution_count": null,
   "id": "75c84a3d",
   "metadata": {},
   "outputs": [],
   "source": [
    "if LISTA_OU_DOWNLOAD:\n",
    "    driver = escolhe_browser(BROWSER)\n",
    "\n",
    "    login(LINK,SENHA,driver)\n",
    "\n",
    "    participantes = lista_participantes(driver)\n",
    "\n",
    "    driver.close()\n",
    "\n",
    "    #Imprime a lista de participantes\n",
    "    for participante in participantes: print(participante)"
   ]
  },
  {
   "cell_type": "markdown",
   "id": "91cdda32",
   "metadata": {},
   "source": [
    "## Para fazer download do video"
   ]
  },
  {
   "cell_type": "code",
   "execution_count": null,
   "id": "c89f7595",
   "metadata": {},
   "outputs": [],
   "source": [
    "if not LISTA_OU_DOWNLOAD:\n",
    "    driver = escolhe_browser(BROWSER)\n",
    "\n",
    "    login(LINK,SENHA,driver)\n",
    "\n",
    "    cria_link(driver)"
   ]
  },
  {
   "cell_type": "markdown",
   "id": "936d8250",
   "metadata": {},
   "source": [
    "### Fecha o navegador"
   ]
  },
  {
   "cell_type": "code",
   "execution_count": null,
   "id": "6424e99c",
   "metadata": {},
   "outputs": [],
   "source": [
    "#feche após salvar o link\n",
    "driver.close()"
   ]
  }
 ],
 "metadata": {
  "kernelspec": {
   "display_name": "Python 3",
   "language": "python",
   "name": "python3"
  },
  "language_info": {
   "codemirror_mode": {
    "name": "ipython",
    "version": 3
   },
   "file_extension": ".py",
   "mimetype": "text/x-python",
   "name": "python",
   "nbconvert_exporter": "python",
   "pygments_lexer": "ipython3",
   "version": "3.8.8"
  },
  "toc": {
   "base_numbering": 1,
   "nav_menu": {},
   "number_sections": true,
   "sideBar": true,
   "skip_h1_title": false,
   "title_cell": "Table of Contents",
   "title_sidebar": "Contents",
   "toc_cell": false,
   "toc_position": {},
   "toc_section_display": true,
   "toc_window_display": false
  },
  "varInspector": {
   "cols": {
    "lenName": 16,
    "lenType": 16,
    "lenVar": 40
   },
   "kernels_config": {
    "python": {
     "delete_cmd_postfix": "",
     "delete_cmd_prefix": "del ",
     "library": "var_list.py",
     "varRefreshCmd": "print(var_dic_list())"
    },
    "r": {
     "delete_cmd_postfix": ") ",
     "delete_cmd_prefix": "rm(",
     "library": "var_list.r",
     "varRefreshCmd": "cat(var_dic_list()) "
    }
   },
   "types_to_exclude": [
    "module",
    "function",
    "builtin_function_or_method",
    "instance",
    "_Feature"
   ],
   "window_display": false
  }
 },
 "nbformat": 4,
 "nbformat_minor": 5
}
